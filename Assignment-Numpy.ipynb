{
 "cells": [
  {
   "cell_type": "code",
   "execution_count": 1,
   "metadata": {},
   "outputs": [],
   "source": [
    "import numpy as np"
   ]
  },
  {
   "cell_type": "code",
   "execution_count": 2,
   "metadata": {},
   "outputs": [],
   "source": [
    "def moving_average(Input, n=10, k=4):\n",
    "    for i in range(n-k+1):\n",
    "        row_sum = 0\n",
    "        sum_str = ''\n",
    "        for j in range(i, i+k):\n",
    "            row_sum += Input[j]\n",
    "            sum_str += str(Input[j])\n",
    "            if j != i+k-1:\n",
    "                sum_str += '+'\n",
    "        \n",
    "        print('y{}  {}=({})/{}'.format(i+1, int(row_sum/k), sum_str, k))\n"
   ]
  },
  {
   "cell_type": "code",
   "execution_count": 3,
   "metadata": {},
   "outputs": [
    {
     "name": "stdout",
     "output_type": "stream",
     "text": [
      "Input  [ 10  20  30  40  50  60  70  80  90 100]\n",
      "y1  25=(10+20+30+40)/4\n",
      "y2  35=(20+30+40+50)/4\n",
      "y3  45=(30+40+50+60)/4\n",
      "y4  55=(40+50+60+70)/4\n",
      "y5  65=(50+60+70+80)/4\n",
      "y6  75=(60+70+80+90)/4\n",
      "y7  85=(70+80+90+100)/4\n"
     ]
    }
   ],
   "source": [
    "n = 10\n",
    "k = 4\n",
    "Input = np.arange(10, 110, n)\n",
    "print('Input ',Input)\n",
    "moving_average(Input, n, k)"
   ]
  },
  {
   "cell_type": "code",
   "execution_count": 4,
   "metadata": {},
   "outputs": [
    {
     "name": "stdout",
     "output_type": "stream",
     "text": [
      "Test  [3, 5, 7, 2, 8, 10, 11, 65, 72, 81, 99, 100, 150]\n",
      "y1  5=(3+5+7)/3\n",
      "y2  4=(5+7+2)/3\n",
      "y3  5=(7+2+8)/3\n",
      "y4  6=(2+8+10)/3\n",
      "y5  9=(8+10+11)/3\n",
      "y6  28=(10+11+65)/3\n",
      "y7  49=(11+65+72)/3\n",
      "y8  72=(65+72+81)/3\n",
      "y9  84=(72+81+99)/3\n",
      "y10  93=(81+99+100)/3\n",
      "y11  116=(99+100+150)/3\n"
     ]
    }
   ],
   "source": [
    "Test = [3, 5, 7, 2, 8, 10, 11, 65, 72, 81, 99, 100, 150]\n",
    "sequence = len(Test)\n",
    "window = 3\n",
    "print('Test ', Test)\n",
    "moving_average(Test, sequence, window)"
   ]
  },
  {
   "cell_type": "code",
   "execution_count": null,
   "metadata": {},
   "outputs": [],
   "source": []
  }
 ],
 "metadata": {
  "kernelspec": {
   "display_name": "Python 3",
   "language": "python",
   "name": "python3"
  },
  "language_info": {
   "codemirror_mode": {
    "name": "ipython",
    "version": 3
   },
   "file_extension": ".py",
   "mimetype": "text/x-python",
   "name": "python",
   "nbconvert_exporter": "python",
   "pygments_lexer": "ipython3",
   "version": "3.8.5"
  }
 },
 "nbformat": 4,
 "nbformat_minor": 4
}
