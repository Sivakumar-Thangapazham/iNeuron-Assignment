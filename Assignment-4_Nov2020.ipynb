{
 "cells": [
  {
   "cell_type": "markdown",
   "metadata": {},
   "source": [
    "1.1 Write a Python Program(with class concepts) to find the area of the triangle using the below\n",
    "formula.\n",
    "\n",
    "area = (s*(s-a)*(s-b)*(s-c)) *** 0.5\n",
    "\n",
    "Function to take the length of the sides of triangle from user should be defined in the parent\n",
    "class and function to calculate the area should be defined in subclass."
   ]
  },
  {
   "cell_type": "code",
   "execution_count": 1,
   "metadata": {},
   "outputs": [],
   "source": [
    "class Triangle():\n",
    "    \n",
    "    def __init__(self, side_a, side_b, side_c):\n",
    "        self._side_a = side_a\n",
    "        self._side_b = side_b\n",
    "        self._side_c = side_c\n",
    "        \n",
    "        \n",
    "class Area(Triangle):\n",
    "    \n",
    "    def __init__(self, side, *args):\n",
    "        super(Area, self).__init__(*args)\n",
    "        self._side = side\n",
    "        \n",
    "    def calculate_area(self):\n",
    "        return (self._side * (self._side - self._side_a) * (self._side - self._side_b) * (self._side - self._side_c)) ** 0.5\n",
    "          "
   ]
  },
  {
   "cell_type": "code",
   "execution_count": 4,
   "metadata": {},
   "outputs": [
    {
     "name": "stdout",
     "output_type": "stream",
     "text": [
      "Enter side : 10\n",
      "Enter length side A : 3\n",
      "Enter length side B : 4\n",
      "Enter length side C : 5\n",
      "Area of triangles of 10, 3, 4, 5 is 45.83\n"
     ]
    }
   ],
   "source": [
    "side = int(input('Enter side : '))\n",
    "side_a = int(input('Enter length side A : '))\n",
    "side_b = int(input('Enter length side B : '))\n",
    "side_c = int(input('Enter length side C : '))\n",
    "\n",
    "area_obj = Area(side, side_a, side_b, side_c)\n",
    "print('Area of triangles of {}, {}, {}, {} is {}'.format(side, side_a, side_b, side_c, round(area_obj.calculate_area(), 2)))"
   ]
  },
  {
   "cell_type": "code",
   "execution_count": null,
   "metadata": {},
   "outputs": [],
   "source": []
  },
  {
   "cell_type": "markdown",
   "metadata": {},
   "source": [
    "1.2 Write a function filter_long_words() that takes a list of words and an integer n and returns\n",
    "the list of words that are longer than n."
   ]
  },
  {
   "cell_type": "code",
   "execution_count": 8,
   "metadata": {},
   "outputs": [],
   "source": [
    "def filter_long_words(lst, n):\n",
    "    return [word for word in lst if len(word) > n]"
   ]
  },
  {
   "cell_type": "code",
   "execution_count": 9,
   "metadata": {},
   "outputs": [
    {
     "name": "stdout",
     "output_type": "stream",
     "text": [
      "['Better', 'Overall']\n"
     ]
    }
   ],
   "source": [
    "words = ['Good', 'Better', 'Best', 'Overall', 'Done']\n",
    "print(filter_long_words(words, 4))"
   ]
  },
  {
   "cell_type": "code",
   "execution_count": null,
   "metadata": {},
   "outputs": [],
   "source": []
  },
  {
   "cell_type": "markdown",
   "metadata": {},
   "source": [
    "2.1 Write a Python program using function concept that maps list of words into a list of integers\n",
    "representing the lengths of the corresponding words.\n",
    "\n",
    "Hint: If a list [ ab,cde,erty] is passed on to the python function output should come as [2,3,4]\n",
    "Here 2,3 and 4 are the lengths of the words in the list."
   ]
  },
  {
   "cell_type": "code",
   "execution_count": 10,
   "metadata": {},
   "outputs": [],
   "source": [
    "def concept(word_list):\n",
    "    return [len(word) for word in word_list]"
   ]
  },
  {
   "cell_type": "code",
   "execution_count": 11,
   "metadata": {},
   "outputs": [
    {
     "name": "stdout",
     "output_type": "stream",
     "text": [
      "[6, 7, 5, 6]\n"
     ]
    }
   ],
   "source": [
    "words = ['abcd23', 'kjhg876', '123fg', 'sssddd']\n",
    "print(concept(words))"
   ]
  },
  {
   "cell_type": "code",
   "execution_count": null,
   "metadata": {},
   "outputs": [],
   "source": []
  },
  {
   "cell_type": "markdown",
   "metadata": {},
   "source": [
    "2.2 Write a Python function which takes a character (i.e. a string of length 1) and returns True if\n",
    "it is a vowel, False otherwise."
   ]
  },
  {
   "cell_type": "code",
   "execution_count": 20,
   "metadata": {},
   "outputs": [],
   "source": [
    "def find_vowel(character):\n",
    "    return [True if character in 'aeiou' else False]"
   ]
  },
  {
   "cell_type": "code",
   "execution_count": 30,
   "metadata": {},
   "outputs": [
    {
     "name": "stdout",
     "output_type": "stream",
     "text": [
      "Enter a character : U\n",
      "[True]\n"
     ]
    }
   ],
   "source": [
    "chr = input('Enter a character : ').lower()\n",
    "print(find_vowel(chr))"
   ]
  },
  {
   "cell_type": "code",
   "execution_count": null,
   "metadata": {},
   "outputs": [],
   "source": []
  }
 ],
 "metadata": {
  "kernelspec": {
   "display_name": "Python 3",
   "language": "python",
   "name": "python3"
  },
  "language_info": {
   "codemirror_mode": {
    "name": "ipython",
    "version": 3
   },
   "file_extension": ".py",
   "mimetype": "text/x-python",
   "name": "python",
   "nbconvert_exporter": "python",
   "pygments_lexer": "ipython3",
   "version": "3.8.5"
  }
 },
 "nbformat": 4,
 "nbformat_minor": 4
}
